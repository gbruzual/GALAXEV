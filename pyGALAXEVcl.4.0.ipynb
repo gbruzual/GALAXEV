{
 "cells": [
  {
   "cell_type": "markdown",
   "id": "340145c8-231a-4223-9493-48638a4a7dc5",
   "metadata": {
    "tags": []
   },
   "source": [
    "# Galaxy Spectral Evolution Library - pyGALAXEV\n",
    "## (C) 2003-2023 - G. Bruzual and S. Charlot - All Rights Reserved\n",
    "\n",
    "Starting with the present release, each **GALAXEV** SSP model is provided as a single fits table file. Models are available for the metallicity **Z** indicated in the table. The **2019** models are based on the **PARSEC** evolutionary tracks (Chen et al. 2015; Marigo et al. 2013). In the **CB19** models (a.k.a. **C&B** models) the evolution of Post AGB stars follows Miller Bertolami (2018) whereas in the **BC19** models the Post AGB stars are treated as in Bruzual & Charlot (2003) following Vassiliadis & Wood (1994). The **BC03** models follow the **Padova 1994** evolutionary tracks and the **CB03** models the **Padova 2000** tracks (see Bruzual & Charlot 2003 for details). The **CB07** models are identical to the **BC03** models except for an enhanced contribution from TP-AGB stars (Bruzual 2007a,b).\n",
    "<table>\n",
    "<tr>\n",
    "  <th>Model Release\n",
    "  <th>2019\n",
    "  <th>BC19/CB19\n",
    "  <td>\n",
    "  <th>Z:\n",
    "  <td>0\n",
    "  <td>\n",
    "  <td>0.0001\n",
    "  <td>\n",
    "  <td>0.0002\n",
    "  <td>\n",
    "  <td>0.0005\n",
    "  <th>\n",
    "  <td>0.001\n",
    "  <td>\n",
    "  <td>0.002\n",
    "  <td>\n",
    "  <td>0.004\n",
    "  <td>\n",
    "  <td>0.006      \n",
    "  <td>\n",
    "  <td>0.008\n",
    "  <td>\n",
    "  <td>0.010\n",
    "  <td>\n",
    "  <td>0.014\n",
    "  <td>\n",
    "  <td>0.017\n",
    "  <th>\n",
    "  <td>0.02\n",
    "  <td>\n",
    "  <td>0.03\n",
    "  <td>\n",
    "  <td>0.04\n",
    "  <td>\n",
    "  <td>0.06\n",
    "</tr>\n",
    "<tr>\n",
    "  <th>Model Release\n",
    "  <th>2003\n",
    "  <th>BC03/CB03/CB07\n",
    "  <td>\n",
    "  <th>Z:\n",
    "  <td>\n",
    "  <td>\n",
    "  <td>0.0001\n",
    "  <td>\n",
    "  <td>\n",
    "  <td>\n",
    "  <td>0.0004\n",
    "  <th>\n",
    "  <td>0.001\n",
    "  <td>\n",
    "  <td>\n",
    "  <td>\n",
    "  <td>0.004\n",
    "  <td>\n",
    "  <td>     \n",
    "  <td>\n",
    "  <td>0.008\n",
    "  <td>\n",
    "  <td>\n",
    "  <td>\n",
    "  <td>\n",
    "  <td>\n",
    "  <td>\n",
    "  <th>\n",
    "  <td>0.02\n",
    "  <td>\n",
    "  <td>0.03\n",
    "  <td>\n",
    "  <td>0.05\n",
    "  <td>\n",
    "  <td>     \n",
    "</tr>\n",
    "</table>\n",
    "Models have been computed for the combination of parameters listed in the table. The <b>Stellar Library</b> entry refers to the stellar atlas used in the visible range, except for the BaSeL models which extend from the UV to the IR. To explore the <b>GALAXEV</b> models, several tasks are provided in the <b>pyGALAXEV</b> cell bellow. Default or recommended values are indicated in <span style=\"color:blue\">blue</span>.\n",
    "<table>\n",
    "<tr>\n",
    "  <th>Model\n",
    "  <td>\n",
    "  <th>IMF\n",
    "  <td>\n",
    "  <th>Mup\n",
    "  <td>\n",
    "  <td>\n",
    "  <td>\n",
    "  <td>\n",
    "  <td>\n",
    "  <td>\n",
    "  <td>\n",
    "  <th>Model\n",
    "  <td>\n",
    "  <th>IMF\n",
    "  <td>\n",
    "  <th>Mup\n",
    "  <td>\n",
    "  <td>\n",
    "  <td>\n",
    "  <td>\n",
    "  <td>\n",
    "  <th>Stellar Libraries (all models)\n",
    "<tr>\n",
    "  <th><span style=\"color:blue\">CB19</span>\n",
    "  <td>\n",
    "  <td>Chabrier, Kroupa, Salpeter\n",
    "  <td>\n",
    "  <td><span style=\"color:blue\">100</span>, 10, 300, 600 Mo\n",
    "  <td>\n",
    "  <td>\n",
    "  <td>\n",
    "  <td>\n",
    "  <td>\n",
    "  <td>\n",
    "  <td>\n",
    "  <th>BC19\n",
    "  <td>\n",
    "  <td>Chabrier\n",
    "  <td>\n",
    "  <td><span style=\"color:blue\">100</span> Mo\n",
    "  <td>\n",
    "  <td>\n",
    "  <td>\n",
    "  <td>\n",
    "  <td>\n",
    "  <td><span style=\"color:blue\">Miles</span>, Miles+, IndoUS, Stelib, BaSel\n",
    "<tr>\n",
    "  <th>\n",
    "  <td>\n",
    "  <td>Vazdekis et al. (1996)\n",
    "  <td>\n",
    "  <td><span style=\"color:blue\">100</span> Mo\n",
    "  <td>\n",
    "  <td>\n",
    "  <td>\n",
    "  <td>\n",
    "  <td>\n",
    "  <td>\n",
    "  <td>\n",
    "  <th>BC03/CB03/CB07\n",
    "  <td>\n",
    "  <td>Chabrier, Kroupa, Salpeter\n",
    "  <td>\n",
    "  <td><span style=\"color:blue\">100</span> Mo\n",
    "  <td>\n",
    "  <td>\n",
    "<tr>\n",
    "</table>"
   ]
  },
  {
   "cell_type": "code",
   "execution_count": 1,
   "id": "88dd6b79-5b31-4ba3-a571-2c3d4235e973",
   "metadata": {
    "tags": []
   },
   "outputs": [
    {
     "data": {
      "application/vnd.jupyter.widget-view+json": {
       "model_id": "d88f277f99c5462a98ea05ca1d3cb5b9",
       "version_major": 2,
       "version_minor": 0
      },
      "text/plain": [
       "GridspecLayout(children=(HTML(value='<span style=\"color:blue\">Use the dropdown menus to build the file name co…"
      ]
     },
     "metadata": {},
     "output_type": "display_data"
    },
    {
     "data": {
      "application/vnd.jupyter.widget-view+json": {
       "model_id": "6c6793c2fe8746fa82aeee3692c505ca",
       "version_major": 2,
       "version_minor": 0
      },
      "text/plain": [
       "Output()"
      ]
     },
     "metadata": {},
     "output_type": "display_data"
    }
   ],
   "source": [
    "from pyGALAXEV import sspFileName\n",
    "sspFileName()"
   ]
  },
  {
   "cell_type": "code",
   "execution_count": null,
   "id": "61d47cc6-b161-4bbd-8ac5-83c8615dd993",
   "metadata": {},
   "outputs": [
    {
     "name": "stdout",
     "output_type": "stream",
     "text": [
      "Galaxy Spectral Evolution Library - pyGALAXEV\n",
      "Python Version (C) 2020-2023 - G. Bruzual and S. Charlot - All Rights Reserved\n",
      "Last revision: \u001b[32mMon Oct  2 2023\u001b[0m\n",
      "\n",
      "To access a CB/BC model you may enter the \u001b[32mfull file name\u001b[0m, e.g.:\n",
      "\u001b[32m   0:\u001b[0m cb2019_z0000_chab_hr_xmilesi_ssp.fits           \u001b[32m8:\u001b[0m cb2019_z008_chab_hr_xmilesi_ssp.fits\n",
      "\u001b[32m   1:\u001b[0m cb2019_z0001_chab_hr_xmilesi_ssp.fits           \u001b[32m9:\u001b[0m cb2019_z010_chab_hr_xmilesi_ssp.fits\n",
      "\u001b[32m   2:\u001b[0m cb2019_z0002_chab_hr_xmilesi_ssp.fits           \u001b[32ma:\u001b[0m cb2019_z014_chab_hr_xmilesi_ssp.fits\n",
      "\u001b[32m   3:\u001b[0m cb2019_z0005_chab_hr_xmilesi_ssp.fits           \u001b[32mb:\u001b[0m cb2019_z017_chab_hr_xmilesi_ssp.fits\n",
      "\u001b[32m   4:\u001b[0m cb2019_z001_chab_hr_xmilesi_ssp.fits            \u001b[32mc:\u001b[0m cb2019_z020_chab_hr_xmilesi_ssp.fits\n",
      "\u001b[32m   5:\u001b[0m cb2019_z002_chab_hr_xmilesi_ssp.fits            \u001b[32md:\u001b[0m cb2019_z030_chab_hr_xmilesi_ssp.fits\n",
      "\u001b[32m   6:\u001b[0m cb2019_z004_chab_hr_xmilesi_ssp.fits            \u001b[32me:\u001b[0m cb2019_z040_chab_hr_xmilesi_ssp.fits\n",
      "\u001b[32m   7:\u001b[0m cb2019_z006_chab_hr_xmilesi_ssp.fits            \u001b[32mf:\u001b[0m cb2019_z060_chab_hr_xmilesi_ssp.fits\n",
      "\n",
      "\u001b[32m   A:\u001b[0m bc2003_z0001_chab_hr_xmilesi_ssp.fits           \u001b[32mD:\u001b[0m bc2003_z008_chab_hr_xmilesi_ssp.fits\n",
      "\u001b[32m   B:\u001b[0m bc2003_z0004_chab_hr_xmilesi_ssp.fits           \u001b[32mE:\u001b[0m bc2003_z020_chab_hr_xmilesi_ssp.fits\n",
      "\u001b[32m   C:\u001b[0m bc2003_z004_chab_hr_xmilesi_ssp.fits            \u001b[32mF:\u001b[0m bc2003_z050_chab_hr_xmilesi_ssp.fits\n",
      "\n",
      "\n"
     ]
    },
    {
     "name": "stdin",
     "output_type": "stream",
     "text": [
      " BC_GALAXEV model 1 in file name [cb2019_z017_chab_hr_xmilesi_ssp.fits]  =  \n",
      " BC_GALAXEV model 2 in file name [cb2019_z017_chab_hr_xmilesi_ssp.fits]  =  \n"
     ]
    },
    {
     "name": "stdout",
     "output_type": "stream",
     "text": [
      "\n",
      "    Plot: s - SEDs                             Code: 0 - csp_galaxev             Legacy: 10 - model ID\n",
      "          n - SEDs (normalized)                      1 - add_bursts                      11 - filter list\n",
      "          m - photometric magnitudes                 2 - cm_evolution                    12 - \n",
      "          c - photometric colors                     3 - zmag                            13 - \n",
      "          i - line strength indices                  4 - galaxevpl\n",
      "          p - physical properties                    5 - rf_phot\n",
      "                                                     6 - of_phot\n",
      "          \u001b[32mh - help\u001b[0m                                   7 - bcfits2txt\n",
      "          l - list available models                  8 - \n",
      "          f - enter model file names                 9 - \n",
      "          q - quit\n",
      "\n"
     ]
    },
    {
     "name": "stdin",
     "output_type": "stream",
     "text": [
      " choice =  5\n"
     ]
    },
    {
     "name": "stdout",
     "output_type": "stream",
     "text": [
      "\n",
      " Galaxy Spectral Evolution Library (GALAXEV)\n",
      " python version (C) 2019-2023 - G. Bruzual and S. Charlot - All Rights Reserved\n",
      "\n"
     ]
    },
    {
     "name": "stdin",
     "output_type": "stream",
     "text": [
      " BC_GALAXEV SSP sed in file [cb2019_z017_chab_hr_xmilesi_ssp.fits] =  \n"
     ]
    },
    {
     "name": "stdout",
     "output_type": "stream",
     "text": [
      "\n",
      " The following filter sets are defined:\n",
      "     Set: 1 - SDSS (ugriz filters)\n",
      "          2 - JPAS (60 J-PAS filters)\n",
      "          3 - JPLUS (12 J-PLUS filters)\n",
      "          4 - STmag (14 HST-ACS, 8 JWST-NIRCAM, 9 JWST-MIRI filters)\n",
      "          5 - Johnson (UBVRIJKL RcIc PalJHK K filters)\n",
      "          6 - enter filters of your choice\n",
      "          q - quit\n"
     ]
    },
    {
     "name": "stdin",
     "output_type": "stream",
     "text": [
      " choice =  6\n",
      " Enter number of selected filters =  1 2 3 4 5\n",
      " Desired magnitude: 0:VEGA, 1:AB, 2:ST =  1\n",
      " Compute rest frame magnitudes at redshift z [0] =  1\n",
      " Redden SEDs assuming Av [0] =  1\n",
      " Output file name [cb2019_z017_chab_hr_xmilesi_ssp.rf_phot.user.z1.000.Av1.000.ABmag] =  \n"
     ]
    },
    {
     "name": "stdout",
     "output_type": "stream",
     "text": [
      "\n",
      "\u001b[31m Running rf_phot code (may take a while)\u001b[0m\n",
      "\n",
      " Preparing filters in file: /Users/bruzual/GALAXEV/aux/FILTERRES.fits\n",
      "\n",
      " Running code RF_PHOT:\n",
      " % done: ...10...20...30...40...50...60...70...80...90..100 (100 steps)\n",
      "         ..................................................\n",
      "\n",
      " Output written to file(s): /Users/bruzual/GALAXEV/out/cb2019_z017_chab_hr_xmilesi_ssp.rf_phot.user.z1.000.Av1.000.ABmag\n",
      "                            /Users/bruzual/GALAXEV/out/cb2019_z017_chab_hr_xmilesi_ssp.rf_phot.user.z1.000.Av1.000.Fjansky\n",
      "\n",
      "    Plot: s - SEDs                             Code: 0 - csp_galaxev             Legacy: 10 - model ID\n",
      "          n - SEDs (normalized)                      1 - add_bursts                      11 - filter list\n",
      "          m - photometric magnitudes                 2 - cm_evolution                    12 - \n",
      "          c - photometric colors                     3 - zmag                            13 - \n",
      "          i - line strength indices                  4 - galaxevpl\n",
      "          p - physical properties                    5 - rf_phot\n",
      "                                                     6 - of_phot\n",
      "          \u001b[32mh - help\u001b[0m                                   7 - bcfits2txt\n",
      "          l - list available models                  8 - \n",
      "          f - enter model file names                 9 - \n",
      "          q - quit\n",
      "\n"
     ]
    },
    {
     "name": "stdin",
     "output_type": "stream",
     "text": [
      " choice =  6\n"
     ]
    },
    {
     "name": "stdout",
     "output_type": "stream",
     "text": [
      "\n",
      " Galaxy Spectral Evolution Library (GALAXEV)\n",
      " python version (C) 2019-2023 - G. Bruzual and S. Charlot - All Rights Reserved\n",
      "\n"
     ]
    },
    {
     "name": "stdin",
     "output_type": "stream",
     "text": [
      " BC_GALAXEV SSP sed in file [cb2019_z017_chab_hr_xmilesi_ssp.fits] =  \n"
     ]
    },
    {
     "name": "stdout",
     "output_type": "stream",
     "text": [
      "\n",
      " The following filter sets are defined:\n",
      "     Set: 1 - SDSS (ugriz filters)\n",
      "          2 - JPAS (60 J-PAS filters)\n",
      "          3 - JPLUS (12 J-PLUS filters)\n",
      "          4 - STmag (14 HST-ACS, 8 JWST-NIRCAM, 9 JWST-MIRI filters)\n",
      "          5 - Johnson (UBVRIJKL RcIc PalJHK K filters)\n",
      "          6 - enter filters of your choice\n",
      "          q - quit\n"
     ]
    },
    {
     "name": "stdin",
     "output_type": "stream",
     "text": [
      " choice =  6\n",
      " Enter number of selected filters =  1 2 3 4 5\n",
      " Desired magnitude: 0:VEGA, 1:AB, 2:ST =  1\n",
      " Redden SEDs assuming Av [0] =  1\n",
      " Output file name [cb2019_z017_chab_hr_xmilesi_ssp.of_phot.user.Av1.000.ABmag] =  \n"
     ]
    },
    {
     "name": "stdout",
     "output_type": "stream",
     "text": [
      "\n",
      "\u001b[31m Running of_phot code (may take a while)\u001b[0m\n",
      "\n",
      " Preparing filters in file: /Users/bruzual/GALAXEV/aux/FILTERRES.fits\n",
      "\n",
      " Running code OF_PHOT:\n",
      " % done: ...10...20...30...40...50...60...70...80...90..100 (229 steps)\n",
      "         ...................................................\n",
      "\n",
      " Output written to file(s): /Users/bruzual/GALAXEV/out/cb2019_z017_chab_hr_xmilesi_ssp.of_phot.user.Av1.000.ABmag\n",
      "\n",
      "\n",
      "    Plot: s - SEDs                             Code: 0 - csp_galaxev             Legacy: 10 - model ID\n",
      "          n - SEDs (normalized)                      1 - add_bursts                      11 - filter list\n",
      "          m - photometric magnitudes                 2 - cm_evolution                    12 - \n",
      "          c - photometric colors                     3 - zmag                            13 - \n",
      "          i - line strength indices                  4 - galaxevpl\n",
      "          p - physical properties                    5 - rf_phot\n",
      "                                                     6 - of_phot\n",
      "          \u001b[32mh - help\u001b[0m                                   7 - bcfits2txt\n",
      "          l - list available models                  8 - \n",
      "          f - enter model file names                 9 - \n",
      "          q - quit\n",
      "\n"
     ]
    }
   ],
   "source": [
    "from bcplot.bcplot import pyGALAXEVcl \n",
    "pyGALAXEVcl(fw)"
   ]
  }
 ],
 "metadata": {
  "kernelspec": {
   "display_name": "Python 3 (ipykernel)",
   "language": "python",
   "name": "python3"
  },
  "language_info": {
   "codemirror_mode": {
    "name": "ipython",
    "version": 3
   },
   "file_extension": ".py",
   "mimetype": "text/x-python",
   "name": "python",
   "nbconvert_exporter": "python",
   "pygments_lexer": "ipython3",
   "version": "3.11.4"
  }
 },
 "nbformat": 4,
 "nbformat_minor": 5
}
