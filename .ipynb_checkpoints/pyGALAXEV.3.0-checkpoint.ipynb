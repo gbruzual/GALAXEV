{
 "cells": [
  {
   "cell_type": "markdown",
   "id": "65e41699-a28f-4796-a712-145dd139e41e",
   "metadata": {
    "tags": []
   },
   "source": [
    "# Galaxy Spectral Evolution Library - pyGALAXEV\n",
    "## (C) 2003-2023 - G. Bruzual and S. Charlot - All Rights Reserved\n",
    "\n",
    "Starting with the present release, each **GALAXEV** SSP model is provided as a single fits table file. Models are available for the metallicity **Z** indicated in the table. The **2019** models are based on the **PARSEC** evolutionary tracks (Chen et al. 2015; Marigo et al. 2013). In the **CB19** models (a.k.a. **C&B** models) the evolution of Post AGB stars follows Miller Bertolami (2018) whereas in the **BC19** models the Post AGB stars are treated as in Bruzual & Charlot (2003) following Vassiliadis & Wood (1994). The **BC03** models follow the **Padova 1994** evolutionary tracks and the **CB03** models the **Padova 2000** tracks (see Bruzual & Charlot 2003 for details). The **CB07** models are identical to the **BC03** models except for an enhanced contribution from TP-AGB stars (Bruzual 2007a,b).\n",
    "<table>\n",
    "<tr>\n",
    "  <th>Model Release\n",
    "  <th>2019\n",
    "  <th>BC19/CB19\n",
    "  <td>\n",
    "  <th>Z:\n",
    "  <td>0\n",
    "  <td>\n",
    "  <td>0.0001\n",
    "  <td>\n",
    "  <td>0.0002\n",
    "  <td>\n",
    "  <td>0.0005\n",
    "  <th>\n",
    "  <td>0.001\n",
    "  <td>\n",
    "  <td>0.002\n",
    "  <td>\n",
    "  <td>0.004\n",
    "  <td>\n",
    "  <td>0.006      \n",
    "  <td>\n",
    "  <td>0.008\n",
    "  <td>\n",
    "  <td>0.010\n",
    "  <td>\n",
    "  <td>0.014\n",
    "  <td>\n",
    "  <td>0.017\n",
    "  <th>\n",
    "  <td>0.02\n",
    "  <td>\n",
    "  <td>0.03\n",
    "  <td>\n",
    "  <td>0.04\n",
    "  <td>\n",
    "  <td>0.06\n",
    "</tr>\n",
    "<tr>\n",
    "  <th>Model Release\n",
    "  <th>2003\n",
    "  <th>BC03/CB03/CB07\n",
    "  <td>\n",
    "  <th>Z:\n",
    "  <td>\n",
    "  <td>\n",
    "  <td>0.0001\n",
    "  <td>\n",
    "  <td>\n",
    "  <td>\n",
    "  <td>0.0004\n",
    "  <th>\n",
    "  <td>0.001\n",
    "  <td>\n",
    "  <td>\n",
    "  <td>\n",
    "  <td>0.004\n",
    "  <td>\n",
    "  <td>     \n",
    "  <td>\n",
    "  <td>0.008\n",
    "  <td>\n",
    "  <td>\n",
    "  <td>\n",
    "  <td>\n",
    "  <td>\n",
    "  <td>\n",
    "  <th>\n",
    "  <td>0.02\n",
    "  <td>\n",
    "  <td>0.03\n",
    "  <td>\n",
    "  <td>0.05\n",
    "  <td>\n",
    "  <td>     \n",
    "</tr>\n",
    "</table>\n",
    "Models have been computed for the combination of parameters listed in the table. The <b>Stellar Library</b> entry refers to the stellar atlas used in the visible range, except for the BaSeL models which extend from the UV to the IR. To explore the <b>GALAXEV</b> models, several tasks are provided in the <b>pyGALAXEV</b> cell bellow. Default or recommended values are indicated in <span style=\"color:blue\">blue</span>.\n",
    "<table>\n",
    "<tr>\n",
    "  <th>Model\n",
    "  <td>\n",
    "  <th>IMF\n",
    "  <td>\n",
    "  <th>Mup\n",
    "  <td>\n",
    "  <td>\n",
    "  <td>\n",
    "  <td>\n",
    "  <td>\n",
    "  <td>\n",
    "  <td>\n",
    "  <th>Model\n",
    "  <td>\n",
    "  <th>IMF\n",
    "  <td>\n",
    "  <th>Mup\n",
    "  <td>\n",
    "  <td>\n",
    "  <td>\n",
    "  <td>\n",
    "  <td>\n",
    "  <th>Stellar Libraries (all models)\n",
    "<tr>\n",
    "  <th><span style=\"color:blue\">CB19</span>\n",
    "  <td>\n",
    "  <td>Chabrier, Kroupa, Salpeter\n",
    "  <td>\n",
    "  <td><span style=\"color:blue\">100</span>, 10, 300, 600 Mo\n",
    "  <td>\n",
    "  <td>\n",
    "  <td>\n",
    "  <td>\n",
    "  <td>\n",
    "  <td>\n",
    "  <td>\n",
    "  <th>BC19\n",
    "  <td>\n",
    "  <td>Chabrier\n",
    "  <td>\n",
    "  <td><span style=\"color:blue\">100</span> Mo\n",
    "  <td>\n",
    "  <td>\n",
    "  <td>\n",
    "  <td>\n",
    "  <td>\n",
    "  <td><span style=\"color:blue\">Miles</span>, Miles+, IndoUS, Stelib, BaSel\n",
    "<tr>\n",
    "  <th>\n",
    "  <td>\n",
    "  <td>Vazdekis et al. (1996)\n",
    "  <td>\n",
    "  <td><span style=\"color:blue\">100</span> Mo\n",
    "  <td>\n",
    "  <td>\n",
    "  <td>\n",
    "  <td>\n",
    "  <td>\n",
    "  <td>\n",
    "  <td>\n",
    "  <th>BC03/CB03/CB07\n",
    "  <td>\n",
    "  <td>Chabrier, Kroupa, Salpeter\n",
    "  <td>\n",
    "  <td><span style=\"color:blue\">100</span> Mo\n",
    "  <td>\n",
    "  <td>\n",
    "<tr>\n",
    "</table>"
   ]
  },
  {
   "cell_type": "code",
   "execution_count": 1,
   "id": "0fcb5f32-92ef-4a86-9761-71491766f988",
   "metadata": {},
   "outputs": [
    {
     "data": {
      "application/vnd.jupyter.widget-view+json": {
       "model_id": "f2dff87740ae404b9c75e0e3059cd0c6",
       "version_major": 2,
       "version_minor": 0
      },
      "text/plain": [
       "GridspecLayout(children=(HTML(value='<span style=\"color:blue\">Use the dropdown menus to obtain the file name c…"
      ]
     },
     "metadata": {},
     "output_type": "display_data"
    },
    {
     "data": {
      "application/vnd.jupyter.widget-view+json": {
       "model_id": "4ac8fb26f522417f9d5a58d32aa0595e",
       "version_major": 2,
       "version_minor": 0
      },
      "text/plain": [
       "Output()"
      ]
     },
     "metadata": {},
     "output_type": "display_data"
    }
   ],
   "source": [
    "from widget.widget import sspFileName\n",
    "sspFileName()"
   ]
  },
  {
   "cell_type": "code",
   "execution_count": 2,
   "id": "ec10d651-697d-430b-8fd0-4168b1ad5173",
   "metadata": {
    "scrolled": true,
    "tags": []
   },
   "outputs": [
    {
     "data": {
      "application/vnd.jupyter.widget-view+json": {
       "model_id": "4adbe4853fa1421fbd8901cb4ef10915",
       "version_major": 2,
       "version_minor": 0
      },
      "text/plain": [
       "GridspecLayout(children=(HTML(value='<b>pyGALAXEV v2.0</b>, Python Version (C) 2020-2023 - G. Bruzual and S. C…"
      ]
     },
     "metadata": {},
     "output_type": "display_data"
    },
    {
     "data": {
      "application/vnd.jupyter.widget-view+json": {
       "model_id": "b1d6876bb30642b99afbfc97312e2133",
       "version_major": 2,
       "version_minor": 0
      },
      "text/plain": [
       "GridspecLayout(children=(Text(value='', description='Model 1', layout=Layout(grid_area='widget001'), placehold…"
      ]
     },
     "metadata": {},
     "output_type": "display_data"
    },
    {
     "data": {
      "application/vnd.jupyter.widget-view+json": {
       "model_id": "bdc860fea3ee48fe9d37f6f89ce1f682",
       "version_major": 2,
       "version_minor": 0
      },
      "text/plain": [
       "Output()"
      ]
     },
     "metadata": {},
     "output_type": "display_data"
    },
    {
     "data": {
      "application/vnd.jupyter.widget-view+json": {
       "model_id": "22de28987bfe4dcaac406454b9837826",
       "version_major": 2,
       "version_minor": 0
      },
      "text/plain": [
       "GridspecLayout(children=(Button(description='View/Run code', layout=Layout(grid_area='widget001'), style=Butto…"
      ]
     },
     "metadata": {},
     "output_type": "display_data"
    },
    {
     "data": {
      "application/vnd.jupyter.widget-view+json": {
       "model_id": "e07b08298cd649238b9b3181c52c235f",
       "version_major": 2,
       "version_minor": 0
      },
      "text/plain": [
       "Output()"
      ]
     },
     "metadata": {},
     "output_type": "display_data"
    }
   ],
   "source": [
    "from widget.widget import pyGALAXEV\n",
    "pyGALAXEV()"
   ]
  },
  {
   "cell_type": "code",
   "execution_count": null,
   "id": "84e101aa-01cf-4a58-b50a-d5190dad5d63",
   "metadata": {},
   "outputs": [],
   "source": []
  },
  {
   "cell_type": "code",
   "execution_count": null,
   "id": "f6c99cf9-2793-4ef5-b05b-c0dfa9cbbd63",
   "metadata": {},
   "outputs": [],
   "source": []
  }
 ],
 "metadata": {
  "kernelspec": {
   "display_name": "Python 3 (ipykernel)",
   "language": "python",
   "name": "python3"
  },
  "language_info": {
   "codemirror_mode": {
    "name": "ipython",
    "version": 3
   },
   "file_extension": ".py",
   "mimetype": "text/x-python",
   "name": "python",
   "nbconvert_exporter": "python",
   "pygments_lexer": "ipython3",
   "version": "3.11.4"
  }
 },
 "nbformat": 4,
 "nbformat_minor": 5
}
